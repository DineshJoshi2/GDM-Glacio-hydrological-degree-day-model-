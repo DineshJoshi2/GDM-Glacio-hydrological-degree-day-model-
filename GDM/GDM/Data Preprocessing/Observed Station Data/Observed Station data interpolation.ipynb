{
 "cells": [
  {
   "cell_type": "markdown",
   "id": "51ba7366",
   "metadata": {},
   "source": [
    "## Converting observed station Data into PCraster Timeseries format.\n",
    "Coded by: Dinesh Joshi \\\n",
    "Email: joshidinesh0227@gmail.com"
   ]
  },
  {
   "cell_type": "code",
   "execution_count": 1,
   "id": "a2c9efb5",
   "metadata": {},
   "outputs": [
    {
     "name": "stdout",
     "output_type": "stream",
     "text": [
      "Collecting openpyxl\n",
      "  Downloading openpyxl-3.1.2-py2.py3-none-any.whl.metadata (2.5 kB)\n",
      "Collecting et-xmlfile (from openpyxl)\n",
      "  Downloading et_xmlfile-1.1.0-py3-none-any.whl.metadata (1.8 kB)\n",
      "Downloading openpyxl-3.1.2-py2.py3-none-any.whl (249 kB)\n",
      "   ---------------------------------------- 0.0/250.0 kB ? eta -:--:--\n",
      "   ---- ---------------------------------- 30.7/250.0 kB 660.6 kB/s eta 0:00:01\n",
      "   ------ -------------------------------- 41.0/250.0 kB 393.8 kB/s eta 0:00:01\n",
      "   ----------------- -------------------- 112.6/250.0 kB 819.2 kB/s eta 0:00:01\n",
      "   ------------------------ ------------- 163.8/250.0 kB 893.0 kB/s eta 0:00:01\n",
      "   ---------------------------------------  245.8/250.0 kB 1.1 MB/s eta 0:00:01\n",
      "   ---------------------------------------- 250.0/250.0 kB 1.0 MB/s eta 0:00:00\n",
      "Downloading et_xmlfile-1.1.0-py3-none-any.whl (4.7 kB)\n",
      "Installing collected packages: et-xmlfile, openpyxl\n",
      "Successfully installed et-xmlfile-1.1.0 openpyxl-3.1.2\n"
     ]
    }
   ],
   "source": [
    "## run this cell once to install openpyxl\n",
    "!pip install openpyxl"
   ]
  },
  {
   "cell_type": "markdown",
   "id": "dc9fd718",
   "metadata": {},
   "source": [
    "## Provide Inputs in below."
   ]
  },
  {
   "cell_type": "code",
   "execution_count": 2,
   "id": "1305c7ee",
   "metadata": {},
   "outputs": [],
   "source": [
    "BaseTemperatureStationElevation= 720 # Provide elevation of Base temperature station\n",
    "HigestElevationTemperatureStation= 2000 # Provide elevation of temperature stations at higest availabe altitude"
   ]
  },
  {
   "cell_type": "markdown",
   "id": "f5650f13",
   "metadata": {},
   "source": [
    "###  In the next code cell, we will load the observed station data and convert it into pcraster timeseries format in the desired resolution as mask file. Run the cell below to execute this code. You can check Prec, Tmax, Tmin subfolders inside the main folder for the resultant data. The processing will take time depending on the amount of data and size of study area."
   ]
  },
  {
   "cell_type": "code",
   "execution_count": 3,
   "id": "c2a53413",
   "metadata": {},
   "outputs": [
    {
     "name": "stderr",
     "output_type": "stream",
     "text": [
      "C:\\Users\\Hp\\AppData\\Local\\Temp\\ipykernel_8092\\2891329538.py:15: DeprecationWarning: DataFrameGroupBy.apply operated on the grouping columns. This behavior is deprecated, and in a future version of pandas the grouping columns will be excluded from the operation. Either pass `include_groups=False` to exclude the groupings or explicitly select the grouping columns after groupby to silence this warning.\n",
      "  Tmax_monthly_lapse_rates = df.groupby('Month').apply(lambda x: ((x['Tmax1'] - x['Tmax2'])/(HigestElevationTemperatureStation-BaseTemperatureStationElevation)).mean())\n",
      "C:\\Users\\Hp\\AppData\\Local\\Temp\\ipykernel_8092\\2891329538.py:16: DeprecationWarning: DataFrameGroupBy.apply operated on the grouping columns. This behavior is deprecated, and in a future version of pandas the grouping columns will be excluded from the operation. Either pass `include_groups=False` to exclude the groupings or explicitly select the grouping columns after groupby to silence this warning.\n",
      "  Tmin_monthly_lapse_rates = df.groupby('Month').apply(lambda x: ((x['Tmin1'] - x['Tmin2'])/(HigestElevationTemperatureStation-BaseTemperatureStationElevation)).mean())\n"
     ]
    },
    {
     "name": "stdout",
     "output_type": "stream",
     "text": [
      "......................................................................................................................................................................................................................................................................................................................................................................................................................................................................................................................................................................................................................................................................................................................................................................................................................................................................................................................................................................................................................................................................................................................................................................................................................................................................................................................................................................................................................................................................................................................................................................................................................................................................................................................................................................................................................"
     ]
    },
    {
     "ename": "KeyboardInterrupt",
     "evalue": "",
     "output_type": "error",
     "traceback": [
      "\u001b[1;31m---------------------------------------------------------------------------\u001b[0m",
      "\u001b[1;31mKeyboardInterrupt\u001b[0m                         Traceback (most recent call last)",
      "Cell \u001b[1;32mIn[3], line 97\u001b[0m\n\u001b[0;32m     95\u001b[0m myModel \u001b[38;5;241m=\u001b[39m InterpolateRainfall(\u001b[38;5;124m\"\u001b[39m\u001b[38;5;124m./Inputs/mask.map\u001b[39m\u001b[38;5;124m\"\u001b[39m)\n\u001b[0;32m     96\u001b[0m dynModelFw \u001b[38;5;241m=\u001b[39m DynamicFramework(myModel, lastTimeStep\u001b[38;5;241m=\u001b[39m\u001b[38;5;28mlen\u001b[39m(df), firstTimestep\u001b[38;5;241m=\u001b[39m\u001b[38;5;241m1\u001b[39m) \u001b[38;5;66;03m##Adjust first and last time step\u001b[39;00m\n\u001b[1;32m---> 97\u001b[0m \u001b[43mdynModelFw\u001b[49m\u001b[38;5;241;43m.\u001b[39;49m\u001b[43mrun\u001b[49m\u001b[43m(\u001b[49m\u001b[43m)\u001b[49m\n\u001b[0;32m     98\u001b[0m os\u001b[38;5;241m.\u001b[39mchdir(\u001b[38;5;124m\"\u001b[39m\u001b[38;5;124m./Data Preprocessing/Observed Station Data\u001b[39m\u001b[38;5;124m\"\u001b[39m)\n",
      "File \u001b[1;32m~\\anaconda3\\envs\\pcraster\\lib\\site-packages\\pcraster\\framework\\dynamicFramework.py:65\u001b[0m, in \u001b[0;36mDynamicFramework.run\u001b[1;34m(self)\u001b[0m\n\u001b[0;32m     62\u001b[0m \u001b[38;5;28;01melse\u001b[39;00m:\n\u001b[0;32m     63\u001b[0m   \u001b[38;5;28mself\u001b[39m\u001b[38;5;241m.\u001b[39m_runInitial()\n\u001b[1;32m---> 65\u001b[0m \u001b[38;5;28;43mself\u001b[39;49m\u001b[38;5;241;43m.\u001b[39;49m\u001b[43m_runDynamic\u001b[49m\u001b[43m(\u001b[49m\u001b[43m)\u001b[49m\n\u001b[0;32m     67\u001b[0m \u001b[38;5;66;03m# Only execute this section while running filter frameworks.\u001b[39;00m\n\u001b[0;32m     68\u001b[0m \u001b[38;5;28;01mif\u001b[39;00m \u001b[38;5;28mhasattr\u001b[39m(\u001b[38;5;28mself\u001b[39m\u001b[38;5;241m.\u001b[39m_userModel(), \u001b[38;5;124m\"\u001b[39m\u001b[38;5;124msuspend\u001b[39m\u001b[38;5;124m\"\u001b[39m) \u001b[38;5;129;01mand\u001b[39;00m \\\n\u001b[0;32m     69\u001b[0m   \u001b[38;5;28mhasattr\u001b[39m(\u001b[38;5;28mself\u001b[39m\u001b[38;5;241m.\u001b[39m_userModel(), \u001b[38;5;124m\"\u001b[39m\u001b[38;5;124mfilterPeriod\u001b[39m\u001b[38;5;124m\"\u001b[39m):\n",
      "File \u001b[1;32m~\\anaconda3\\envs\\pcraster\\lib\\site-packages\\pcraster\\framework\\frameworkBase.py:371\u001b[0m, in \u001b[0;36mFrameworkBase._runDynamic\u001b[1;34m(self)\u001b[0m\n\u001b[0;32m    369\u001b[0m \u001b[38;5;28mself\u001b[39m\u001b[38;5;241m.\u001b[39m_incrementIndentLevel()\n\u001b[0;32m    370\u001b[0m \u001b[38;5;28mself\u001b[39m\u001b[38;5;241m.\u001b[39m_traceIn(\u001b[38;5;124m\"\u001b[39m\u001b[38;5;124mdynamic\u001b[39m\u001b[38;5;124m\"\u001b[39m)\n\u001b[1;32m--> 371\u001b[0m \u001b[38;5;28;43mself\u001b[39;49m\u001b[38;5;241;43m.\u001b[39;49m\u001b[43m_userModel\u001b[49m\u001b[43m(\u001b[49m\u001b[43m)\u001b[49m\u001b[38;5;241;43m.\u001b[39;49m\u001b[43mdynamic\u001b[49m\u001b[43m(\u001b[49m\u001b[43m)\u001b[49m\n\u001b[0;32m    372\u001b[0m \u001b[38;5;28mself\u001b[39m\u001b[38;5;241m.\u001b[39m_traceOut(\u001b[38;5;124m\"\u001b[39m\u001b[38;5;124mdynamic\u001b[39m\u001b[38;5;124m\"\u001b[39m)\n\u001b[0;32m    373\u001b[0m \u001b[38;5;28mself\u001b[39m\u001b[38;5;241m.\u001b[39m_decrementIndentLevel()\n",
      "Cell \u001b[1;32mIn[3], line 79\u001b[0m, in \u001b[0;36mInterpolateRainfall.dynamic\u001b[1;34m(self)\u001b[0m\n\u001b[0;32m     77\u001b[0m precipAtStation \u001b[38;5;241m=\u001b[39m timeinputscalar(\u001b[38;5;28mself\u001b[39m\u001b[38;5;241m.\u001b[39mprecipTSS,\u001b[38;5;28mself\u001b[39m\u001b[38;5;241m.\u001b[39mcoordinates)\n\u001b[0;32m     78\u001b[0m \u001b[38;5;66;03m#IDW interpolation\u001b[39;00m\n\u001b[1;32m---> 79\u001b[0m precipIDW \u001b[38;5;241m=\u001b[39m \u001b[43minversedistance\u001b[49m\u001b[43m(\u001b[49m\u001b[38;5;28;43mself\u001b[39;49m\u001b[38;5;241;43m.\u001b[39;49m\u001b[43mmask\u001b[49m\u001b[43m,\u001b[49m\u001b[43mprecipAtStation\u001b[49m\u001b[43m,\u001b[49m\u001b[38;5;241;43m2\u001b[39;49m\u001b[43m,\u001b[49m\u001b[38;5;241;43m0\u001b[39;49m\u001b[43m,\u001b[49m\u001b[38;5;241;43m0\u001b[39;49m\u001b[43m)\u001b[49m\n\u001b[0;32m     81\u001b[0m \u001b[38;5;66;03m# Interpolating temperature using temperature lapse rate.\u001b[39;00m\n\u001b[0;32m     82\u001b[0m BTmax\u001b[38;5;241m=\u001b[39mdf[\u001b[38;5;124m'\u001b[39m\u001b[38;5;124mTmax1\u001b[39m\u001b[38;5;124m'\u001b[39m][Timestep\u001b[38;5;241m-\u001b[39m\u001b[38;5;241m1\u001b[39m]\u001b[38;5;241m-\u001b[39m((\u001b[38;5;28mself\u001b[39m\u001b[38;5;241m.\u001b[39mDEM\u001b[38;5;241m-\u001b[39mBaseTemperatureStationElevation)\u001b[38;5;241m*\u001b[39mTmax_monthly_lapse_rates[df[\u001b[38;5;124m\"\u001b[39m\u001b[38;5;124mMonth\u001b[39m\u001b[38;5;124m\"\u001b[39m][Timestep\u001b[38;5;241m-\u001b[39m\u001b[38;5;241m1\u001b[39m]])\n",
      "File \u001b[1;32m~\\anaconda3\\envs\\pcraster\\lib\\site-packages\\pcraster\\operations.py:3094\u001b[0m, in \u001b[0;36minversedistance\u001b[1;34m(arg1, arg2, arg3, arg4, arg5)\u001b[0m\n\u001b[0;32m   3092\u001b[0m   _pcraster\u001b[38;5;241m.\u001b[39m_rte()\u001b[38;5;241m.\u001b[39mpushField(arg5)\n\u001b[0;32m   3093\u001b[0m   _pcraster\u001b[38;5;241m.\u001b[39m_rte()\u001b[38;5;241m.\u001b[39mcheckAndExec(operator, \u001b[38;5;241m5\u001b[39m)\n\u001b[1;32m-> 3094\u001b[0m   results\u001b[38;5;241m.\u001b[39mappend(\u001b[43m_pcraster\u001b[49m\u001b[38;5;241;43m.\u001b[39;49m\u001b[43m_rte\u001b[49m\u001b[43m(\u001b[49m\u001b[43m)\u001b[49m\u001b[38;5;241m.\u001b[39mreleasePopField())\n\u001b[0;32m   3095\u001b[0m   \u001b[38;5;28;01mreturn\u001b[39;00m results[\u001b[38;5;241m0\u001b[39m]\n\u001b[0;32m   3096\u001b[0m \u001b[38;5;28;01mexcept\u001b[39;00m \u001b[38;5;167;01mRuntimeError\u001b[39;00m \u001b[38;5;28;01mas\u001b[39;00m exception:\n",
      "\u001b[1;31mKeyboardInterrupt\u001b[0m: "
     ]
    }
   ],
   "source": [
    "# importing the required libraries\n",
    "import pandas as pd\n",
    "import numpy as np\n",
    "from pcraster import *\n",
    "from pcraster.framework import *\n",
    "\n",
    "# importing Data\n",
    "df=pd.read_excel(\"Station Data.xlsx\",index_col=0)\n",
    "\n",
    "df['Date'] = pd.to_datetime(df['Date'])\n",
    "# Add a new column 'Month' to the DataFrame\n",
    "df['Month'] = df['Date'].dt.month\n",
    "\n",
    "# Group by month and calculate the average lapse rate for each month\n",
    "Tmax_monthly_lapse_rates = df.groupby('Month').apply(lambda x: ((x['Tmax1'] - x['Tmax2'])/(HigestElevationTemperatureStation-BaseTemperatureStationElevation)).mean())\n",
    "Tmin_monthly_lapse_rates = df.groupby('Month').apply(lambda x: ((x['Tmin1'] - x['Tmin2'])/(HigestElevationTemperatureStation-BaseTemperatureStationElevation)).mean())\n",
    "\n",
    "precColumns=[]\n",
    "for i in df.columns:\n",
    "    if i[:4]== \"prec\":\n",
    "        precColumns.append(i)\n",
    "\n",
    "NColumns= len(precColumns)+1                \n",
    "with open('ObservedPrecipitationTimeseriesData.tss', 'w') as f:\n",
    "    f.write(\"Observed Precipitation time series scaler data\")\n",
    "    f.write(\"\\n\")\n",
    "    f.write(str(NColumns))\n",
    "    f.write(\"\\n\")\n",
    "    f.write(\"timestep\")\n",
    "    f.write(\"\\n\")\n",
    "    for i in range(1,NColumns):\n",
    "        f.write(str(i))\n",
    "        f.write(\"\\n\")\n",
    "    for timestep in range(len(df)):\n",
    "        f.write(str(timestep+1)+' ')\n",
    "        for precColumn in precColumns:\n",
    "            f.write(str(df[precColumn][timestep])+ ' ')\n",
    "        f.write(str(\"\\n\"))\n",
    "# change the current working directory to GDM Training'\n",
    "import os\n",
    "os.chdir(\"..\")\n",
    "os.chdir(\"..\")\n",
    "\n",
    "# Creating a pcraster map file for station id coordinates¶\n",
    "# set the paths to the input and output files\n",
    "coordinates_file = './Data Preprocessing/Observed Station Data/stationid.txt'\n",
    "mask_file = './Inputs/mask.map'\n",
    "output_file = './Data Preprocessing/Observed Station Data/stationid.map'\n",
    "\n",
    "# build the command string with the file paths\n",
    "command = ['col2map', '-N', coordinates_file, output_file, '--clone', mask_file]\n",
    "\n",
    "# execute the command using subprocess.run\n",
    "subprocess.run(command)\n",
    "\n",
    "# interpolating using inverse distance weighting\n",
    "class InterpolateRainfall(DynamicModel):\n",
    "    def __init__(self, cloneMap):\n",
    "        DynamicModel.__init__(self)\n",
    "        setclone(cloneMap)\n",
    "    \n",
    "    def initial(self):\n",
    "        # Map with coordinates\n",
    "        self.coordinates = self.readmap(\"./Data Preprocessing/Observed Station Data/stationid\") \n",
    "        # Boolean mask for IDW \n",
    "        self.mask = self.readmap(\"./Inputs/mask\")            \n",
    "        # Dem for Temperature lapse rate\n",
    "        self.DEM= self.readmap(\"./Inputs/dem\")\n",
    "        #variable for tss file\n",
    "        self.precipTSS = \"./Data Preprocessing/Observed Station Data/ObservedPrecipitationTimeseriesData.tss\"      \n",
    "        #initializing incremental timestep \n",
    "        self.IncrementalTimestep= 1\n",
    "       \n",
    "    def dynamic(self):\n",
    "        Timestep=int(self.IncrementalTimestep)\n",
    "        # Reading precipitation at coordinates and make dynamic map stations\n",
    "        precipAtStation = timeinputscalar(self.precipTSS,self.coordinates)\n",
    "        #IDW interpolation\n",
    "        precipIDW = inversedistance(self.mask,precipAtStation,2,0,0)\n",
    "        \n",
    "        # Interpolating temperature using temperature lapse rate.\n",
    "        BTmax=df['Tmax1'][Timestep-1]-((self.DEM-BaseTemperatureStationElevation)*Tmax_monthly_lapse_rates[df[\"Month\"][Timestep-1]])\n",
    "        BTmin=df['Tmin1'][Timestep-1]-((self.DEM-BaseTemperatureStationElevation)*Tmin_monthly_lapse_rates[df[\"Month\"][Timestep-1]])\n",
    "        HTmax=df['Tmax1'][Timestep-1]-((self.DEM-BaseTemperatureStationElevation)*0.006)\n",
    "        HTmin=df['Tmin1'][Timestep-1]-((self.DEM-BaseTemperatureStationElevation)*0.006)   \n",
    "        \n",
    "        Tmax=ifthenelse(self.DEM < HigestElevationTemperatureStation, BTmax, HTmax)\n",
    "        Tmin=ifthenelse(self.DEM < HigestElevationTemperatureStation, BTmin, HTmin)\n",
    "        \n",
    "        self.IncrementalTimestep= self.IncrementalTimestep+1\n",
    "        \n",
    "        self.report(precipIDW,\"./Prec/prec\") ## provide path for the precipitation output\n",
    "        self.report(Tmax,\"./Tmax/tmax\")\n",
    "        self.report(Tmin,\"./Tmin/tmin\")\n",
    "myModel = InterpolateRainfall(\"./Inputs/mask.map\")\n",
    "dynModelFw = DynamicFramework(myModel, lastTimeStep=len(df), firstTimestep=1) ##Adjust first and last time step\n",
    "dynModelFw.run()\n",
    "os.chdir(\"./Data Preprocessing/Observed Station Data\")"
   ]
  },
  {
   "cell_type": "code",
   "execution_count": null,
   "id": "f210c171",
   "metadata": {},
   "outputs": [],
   "source": []
  },
  {
   "cell_type": "code",
   "execution_count": null,
   "id": "8091c20b-d8b3-4518-a64d-99fffaefec94",
   "metadata": {},
   "outputs": [],
   "source": []
  }
 ],
 "metadata": {
  "kernelspec": {
   "display_name": "Python 3 (ipykernel)",
   "language": "python",
   "name": "python3"
  },
  "language_info": {
   "codemirror_mode": {
    "name": "ipython",
    "version": 3
   },
   "file_extension": ".py",
   "mimetype": "text/x-python",
   "name": "python",
   "nbconvert_exporter": "python",
   "pygments_lexer": "ipython3",
   "version": "3.10.13"
  }
 },
 "nbformat": 4,
 "nbformat_minor": 5
}
